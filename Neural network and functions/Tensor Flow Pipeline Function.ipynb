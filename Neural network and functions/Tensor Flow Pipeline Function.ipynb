{
 "cells": [
  {
   "cell_type": "code",
   "execution_count": 48,
   "id": "36dabdf0",
   "metadata": {},
   "outputs": [],
   "source": [
    "import tensorflow as tf\n",
    "import time"
   ]
  },
  {
   "cell_type": "markdown",
   "id": "1376e254",
   "metadata": {},
   "source": [
    "## Create tf dataset from list"
   ]
  },
  {
   "cell_type": "code",
   "execution_count": 49,
   "id": "ee70c6f8",
   "metadata": {},
   "outputs": [],
   "source": [
    "sales_numbers = [21, 22, -108, 31, -1, 32, 34,31]"
   ]
  },
  {
   "cell_type": "markdown",
   "id": "e2d3d7ea",
   "metadata": {},
   "source": [
    "## Iterate Through tf dataset"
   ]
  },
  {
   "cell_type": "code",
   "execution_count": 50,
   "id": "952bef00",
   "metadata": {},
   "outputs": [],
   "source": [
    "tf_dataset = tf.data.Dataset.from_tensor_slices(sales_numbers)"
   ]
  },
  {
   "cell_type": "code",
   "execution_count": 51,
   "id": "749cecf0",
   "metadata": {},
   "outputs": [
    {
     "data": {
      "text/plain": [
       "<_TensorSliceDataset element_spec=TensorSpec(shape=(), dtype=tf.int32, name=None)>"
      ]
     },
     "execution_count": 51,
     "metadata": {},
     "output_type": "execute_result"
    }
   ],
   "source": [
    "tf_dataset"
   ]
  },
  {
   "cell_type": "markdown",
   "id": "050fee7c",
   "metadata": {},
   "source": [
    "## Iterate through elements as numpy elements "
   ]
  },
  {
   "cell_type": "code",
   "execution_count": 52,
   "id": "17436226",
   "metadata": {},
   "outputs": [
    {
     "name": "stdout",
     "output_type": "stream",
     "text": [
      "21\n",
      "22\n",
      "-108\n",
      "31\n",
      "-1\n",
      "32\n",
      "34\n",
      "31\n"
     ]
    }
   ],
   "source": [
    "for sales in tf_dataset:\n",
    "    print(sales.numpy())"
   ]
  },
  {
   "cell_type": "markdown",
   "id": "0c69d5f8",
   "metadata": {},
   "source": [
    "## Iterate through first n elements in tf dataset"
   ]
  },
  {
   "cell_type": "code",
   "execution_count": 53,
   "id": "fedcc86f",
   "metadata": {},
   "outputs": [
    {
     "name": "stdout",
     "output_type": "stream",
     "text": [
      "21\n",
      "22\n",
      "-108\n"
     ]
    }
   ],
   "source": [
    "for sales in tf_dataset.take(3):\n",
    "    print(sales.numpy())"
   ]
  },
  {
   "cell_type": "markdown",
   "id": "f6291ad3",
   "metadata": {},
   "source": [
    "##  Filter sales numbers that are < 0"
   ]
  },
  {
   "cell_type": "code",
   "execution_count": 54,
   "id": "5a66f34b",
   "metadata": {},
   "outputs": [
    {
     "name": "stdout",
     "output_type": "stream",
     "text": [
      "21\n",
      "22\n",
      "31\n",
      "32\n",
      "34\n",
      "31\n"
     ]
    }
   ],
   "source": [
    "tf_dataset = tf_dataset.filter(lambda x: x>0)\n",
    "for sales in tf_dataset.as_numpy_iterator():\n",
    "    print(sales)"
   ]
  },
  {
   "cell_type": "markdown",
   "id": "fa35655c",
   "metadata": {},
   "source": [
    "##  USA dollars  to Indian Rupees (INR) Assuming 1->72 conversation rate"
   ]
  },
  {
   "cell_type": "code",
   "execution_count": 55,
   "id": "1f01c7c1",
   "metadata": {},
   "outputs": [
    {
     "name": "stdout",
     "output_type": "stream",
     "text": [
      "1512\n",
      "1584\n",
      "2232\n",
      "2304\n",
      "2448\n",
      "2232\n"
     ]
    }
   ],
   "source": [
    "tf_dataset = tf_dataset.map(lambda x: x*72)\n",
    "for sales in tf_dataset.as_numpy_iterator():\n",
    "    print(sales)"
   ]
  },
  {
   "cell_type": "markdown",
   "id": "52091c83",
   "metadata": {},
   "source": [
    "## Shuffle"
   ]
  },
  {
   "cell_type": "code",
   "execution_count": 56,
   "id": "0a8820ce",
   "metadata": {},
   "outputs": [
    {
     "name": "stdout",
     "output_type": "stream",
     "text": [
      "1512\n",
      "2232\n",
      "2304\n",
      "2448\n",
      "2232\n",
      "1584\n"
     ]
    }
   ],
   "source": [
    "tf_dataset = tf_dataset.shuffle(2)\n",
    "for sales in tf_dataset.as_numpy_iterator():\n",
    "    print(sales)"
   ]
  },
  {
   "cell_type": "markdown",
   "id": "1e3fca81",
   "metadata": {},
   "source": [
    "## Batching "
   ]
  },
  {
   "cell_type": "code",
   "execution_count": 57,
   "id": "39c6d2fd",
   "metadata": {},
   "outputs": [
    {
     "name": "stdout",
     "output_type": "stream",
     "text": [
      "[1584 2232]\n",
      "[2304 1512]\n",
      "[2232 2448]\n"
     ]
    }
   ],
   "source": [
    "for sales_batch in tf_dataset.batch(2):\n",
    "    print(sales_batch.numpy())"
   ]
  },
  {
   "cell_type": "markdown",
   "id": "f825cd24",
   "metadata": {},
   "source": [
    "## Perform all of the above operations in one shot"
   ]
  },
  {
   "cell_type": "code",
   "execution_count": 58,
   "id": "9a058b69",
   "metadata": {},
   "outputs": [
    {
     "name": "stdout",
     "output_type": "stream",
     "text": [
      "[1584 2232]\n",
      "[1512 2304]\n",
      "[2448 2232]\n"
     ]
    }
   ],
   "source": [
    "tf_dataset = tf.data.Dataset.from_tensor_slices(sales_numbers)\n",
    "\n",
    "tf_dataset = tf_dataset.filter(lambda x: x>0).map(lambda y: y*72).shuffle(2).batch(2)\n",
    "for sales in tf_dataset.as_numpy_iterator():\n",
    "    print(sales)"
   ]
  },
  {
   "cell_type": "markdown",
   "id": "0c14134e",
   "metadata": {},
   "source": [
    "# Images "
   ]
  },
  {
   "cell_type": "code",
   "execution_count": 59,
   "id": "3a8b386b",
   "metadata": {},
   "outputs": [],
   "source": [
    "images_ds = tf.data.Dataset.list_files(\"image/*/*\", shuffle = False)"
   ]
  },
  {
   "cell_type": "code",
   "execution_count": 60,
   "id": "04e465af",
   "metadata": {},
   "outputs": [
    {
     "data": {
      "text/plain": [
       "606"
      ]
     },
     "execution_count": 60,
     "metadata": {},
     "output_type": "execute_result"
    }
   ],
   "source": [
    "image_count = len(images_ds)\n",
    "image_count"
   ]
  },
  {
   "cell_type": "code",
   "execution_count": 61,
   "id": "088f2d8c",
   "metadata": {},
   "outputs": [
    {
     "data": {
      "text/plain": [
       "tensorflow.python.data.ops.from_tensor_slices_op._TensorSliceDataset"
      ]
     },
     "execution_count": 61,
     "metadata": {},
     "output_type": "execute_result"
    }
   ],
   "source": [
    "type(images_ds)"
   ]
  },
  {
   "cell_type": "code",
   "execution_count": 62,
   "id": "9a95743a",
   "metadata": {},
   "outputs": [
    {
     "name": "stdout",
     "output_type": "stream",
     "text": [
      "b'image\\\\cats\\\\cat.1.jpg'\n",
      "b'image\\\\cats\\\\cat.10.jpg'\n",
      "b'image\\\\cats\\\\cat.100.jpg'\n",
      "b'image\\\\cats\\\\cat.101.jpg'\n",
      "b'image\\\\cats\\\\cat.102.jpg'\n"
     ]
    }
   ],
   "source": [
    "for file in images_ds.take(5):\n",
    "    print(file.numpy())"
   ]
  },
  {
   "cell_type": "code",
   "execution_count": 63,
   "id": "365f2d36",
   "metadata": {},
   "outputs": [
    {
     "name": "stdout",
     "output_type": "stream",
     "text": [
      "b'image\\\\cats\\\\cat.21.jpg'\n",
      "b'image\\\\dogs\\\\dog.138.jpg'\n",
      "b'image\\\\dogs\\\\dog.113.jpg'\n",
      "b'image\\\\dogs\\\\dog.6.jpg'\n"
     ]
    }
   ],
   "source": [
    "images_ds = images_ds.shuffle(600)\n",
    "for file in images_ds.take(4):\n",
    "    print(file.numpy())"
   ]
  },
  {
   "cell_type": "code",
   "execution_count": 64,
   "id": "8d4d1e2f",
   "metadata": {},
   "outputs": [],
   "source": [
    "class_names = [\"cat\",\"dog\",\"horse\"]"
   ]
  },
  {
   "cell_type": "code",
   "execution_count": 65,
   "id": "00941137",
   "metadata": {},
   "outputs": [],
   "source": [
    "train_size = int(image_count*0.8)\n",
    "train_ds = images_ds.take(train_size)\n",
    "test_ds = images_ds.skip(train_size)"
   ]
  },
  {
   "cell_type": "code",
   "execution_count": 66,
   "id": "9c247ba7",
   "metadata": {},
   "outputs": [
    {
     "data": {
      "text/plain": [
       "484"
      ]
     },
     "execution_count": 66,
     "metadata": {},
     "output_type": "execute_result"
    }
   ],
   "source": [
    "len(train_ds)"
   ]
  },
  {
   "cell_type": "code",
   "execution_count": 67,
   "id": "a0e94851",
   "metadata": {},
   "outputs": [
    {
     "data": {
      "text/plain": [
       "122"
      ]
     },
     "execution_count": 67,
     "metadata": {},
     "output_type": "execute_result"
    }
   ],
   "source": [
    "len(test_ds)"
   ]
  },
  {
   "cell_type": "code",
   "execution_count": 68,
   "id": "b3a93581",
   "metadata": {},
   "outputs": [],
   "source": [
    "def get_label(file_path):\n",
    "    import os\n",
    "    parts = tf.strings.split(file_path, os.path.sep)\n",
    "    return parts[-2]"
   ]
  },
  {
   "cell_type": "code",
   "execution_count": 69,
   "id": "03a9b4c5",
   "metadata": {},
   "outputs": [
    {
     "data": {
      "text/plain": [
       "<tf.Tensor: shape=(), dtype=string, numpy=b'dogs'>"
      ]
     },
     "execution_count": 69,
     "metadata": {},
     "output_type": "execute_result"
    }
   ],
   "source": [
    "get_label(\"b'image\\\\dogs\\\\dog.75.jpg'\")"
   ]
  },
  {
   "cell_type": "code",
   "execution_count": 70,
   "id": "0e1d1253",
   "metadata": {},
   "outputs": [
    {
     "data": {
      "text/plain": [
       "<tf.Tensor: shape=(), dtype=string, numpy=b'cats'>"
      ]
     },
     "execution_count": 70,
     "metadata": {},
     "output_type": "execute_result"
    }
   ],
   "source": [
    "get_label(\"b'image\\\\cats\\\\cat.101.jpg'\")"
   ]
  },
  {
   "cell_type": "code",
   "execution_count": 71,
   "id": "3ac3e6ca",
   "metadata": {},
   "outputs": [],
   "source": [
    "def process_image(file_path):\n",
    "    label = get_label(file_path)\n",
    "    img = tf.io.read_file(file_path)\n",
    "    img = tf.image.decode_jpeg(img)\n",
    "    img = tf.image.resize(img,[128,128])\n",
    "    return img,label"
   ]
  },
  {
   "cell_type": "code",
   "execution_count": 72,
   "id": "9df94905",
   "metadata": {},
   "outputs": [
    {
     "data": {
      "text/plain": [
       "array([[[200.69073 , 221.71655 , 142.6391  ],\n",
       "        [187.69073 , 208.67645 , 139.1914  ],\n",
       "        [152.49738 , 173.73175 , 114.028625],\n",
       "        [132.24976 , 155.25836 ,  98.51825 ],\n",
       "        [134.26904 , 159.84717 , 100.11279 ],\n",
       "        [133.58636 , 161.85315 , 105.3598  ],\n",
       "        [123.21875 , 148.04688 , 101.45282 ],\n",
       "        [128.17633 , 145.58258 , 105.37164 ],\n",
       "        [136.3747  , 149.83423 , 108.755005],\n",
       "        [124.23108 , 141.04974 ,  89.86163 ],\n",
       "        [152.9289  , 174.94995 , 111.818726],\n",
       "        [167.88666 , 189.7851  , 121.32037 ],\n",
       "        [139.29944 , 162.41547 ,  97.87158 ],\n",
       "        [133.50385 , 156.76947 ,  99.70697 ],\n",
       "        [138.64575 , 163.22131 , 113.78381 ],\n",
       "        [147.68188 , 173.68188 , 128.68188 ],\n",
       "        [133.42023 , 158.16675 , 123.74402 ],\n",
       "        [ 94.45941 , 107.560974,  80.78235 ],\n",
       "        [153.91266 , 156.81854 , 122.14276 ],\n",
       "        [158.06067 , 173.2638  , 122.31665 ],\n",
       "        [145.14868 , 170.52771 , 111.21515 ],\n",
       "        [167.1977  , 183.40161 , 127.46332 ],\n",
       "        [177.51233 , 193.51233 , 130.6217  ],\n",
       "        [176.34766 , 193.5611  , 130.88812 ],\n",
       "        [172.74164 , 192.28125 , 130.08594 ],\n",
       "        [147.6325  , 168.45703 , 111.715454],\n",
       "        [143.60474 , 164.7063  , 115.83911 ],\n",
       "        [144.18372 , 162.33997 , 117.269775],\n",
       "        [138.07318 , 155.07318 , 110.375   ],\n",
       "        [153.40698 , 170.95776 , 124.30542 ],\n",
       "        [156.68939 , 174.68939 , 125.46149 ],\n",
       "        [159.58289 , 177.58289 , 126.48132 ],\n",
       "        [149.52972 , 167.52972 , 115.529724],\n",
       "        [160.47522 , 177.41205 , 107.409485],\n",
       "        [184.19305 , 202.04016 , 141.23175 ],\n",
       "        [164.4198  , 181.64636 , 130.31433 ],\n",
       "        [132.9743  , 152.13055 , 100.65399 ],\n",
       "        [146.93793 , 169.00159 , 112.51996 ],\n",
       "        [119.10852 , 145.10492 ,  76.90057 ],\n",
       "        [144.80524 , 174.70367 ,  96.50055 ],\n",
       "        [152.72797 , 183.72797 , 106.64703 ],\n",
       "        [141.96814 , 173.46649 ,  92.223694],\n",
       "        [138.67352 , 173.13135 ,  84.38757 ],\n",
       "        [181.01587 , 216.46509 , 120.82446 ],\n",
       "        [183.02435 , 216.74011 , 127.39337 ],\n",
       "        [148.94708 , 179.00214 , 106.31427 ],\n",
       "        [146.0351  , 169.94525 , 119.19    ],\n",
       "        [168.00568 , 187.22095 , 153.84985 ],\n",
       "        [181.67975 , 197.17627 , 174.98486 ],\n",
       "        [176.14197 , 186.80603 , 169.61462 ],\n",
       "        [161.86755 , 167.5199  , 151.96912 ],\n",
       "        [157.82837 , 163.1195  , 148.4389  ],\n",
       "        [168.30078 , 172.64844 , 161.19922 ],\n",
       "        [179.0664  , 183.41406 , 173.96484 ],\n",
       "        [194.15625 , 196.05469 , 188.5039  ],\n",
       "        [191.8761  , 201.67297 , 202.26672 ],\n",
       "        [185.92853 , 195.92853 , 196.92853 ],\n",
       "        [200.47717 , 210.47717 , 211.47717 ],\n",
       "        [204.76447 , 214.76447 , 215.76447 ],\n",
       "        [203.38861 , 213.38861 , 214.38861 ],\n",
       "        [205.38776 , 215.38776 , 216.71588 ],\n",
       "        [206.4455  , 216.4455  , 217.4455  ],\n",
       "        [206.30536 , 214.02411 , 215.74286 ],\n",
       "        [208.5039  , 214.5039  , 212.5039  ],\n",
       "        [206.59766 , 210.59766 , 209.59766 ],\n",
       "        [205.07745 , 207.07745 , 204.07745 ],\n",
       "        [204.53497 , 202.00372 , 195.47247 ],\n",
       "        [199.47552 , 195.80365 , 186.80365 ],\n",
       "        [195.52344 , 190.42188 , 178.42188 ],\n",
       "        [195.08435 , 188.59998 , 171.63123 ],\n",
       "        [196.427   , 188.87622 , 169.87622 ],\n",
       "        [198.96484 , 193.5586  , 170.66797 ],\n",
       "        [210.38922 , 207.49078 , 182.49078 ],\n",
       "        [223.69592 , 220.79749 , 195.91797 ],\n",
       "        [238.07422 , 237.17578 , 212.72656 ],\n",
       "        [243.2149  , 241.76569 , 219.86725 ],\n",
       "        [248.6034  , 247.59259 , 225.52228 ],\n",
       "        [254.8537  , 245.54901 , 227.28339 ],\n",
       "        [254.48572 , 247.76697 , 226.8451  ],\n",
       "        [245.79474 , 242.88849 , 217.88849 ],\n",
       "        [227.96606 , 231.87231 , 203.51294 ],\n",
       "        [185.84381 , 193.92194 , 160.56256 ],\n",
       "        [136.59326 , 147.76654 , 117.24097 ],\n",
       "        [111.326965, 125.2215  ,  99.35132 ],\n",
       "        [ 99.28461 , 119.62848 ,  88.99957 ],\n",
       "        [ 92.13501 , 120.75452 ,  86.3139  ],\n",
       "        [ 93.0954  , 129.47986 ,  89.158936],\n",
       "        [105.42859 , 146.63171 , 103.182495],\n",
       "        [104.4364  , 133.39844 , 101.203125],\n",
       "        [121.46002 , 153.0694  , 105.843445],\n",
       "        [128.88123 , 164.21442 , 101.40076 ],\n",
       "        [136.05432 , 171.8648  , 110.21838 ],\n",
       "        [102.89636 , 136.9159  ,  92.33386 ],\n",
       "        [ 76.05823 , 106.82385 ,  73.51172 ],\n",
       "        [ 75.42444 , 102.28381 ,  71.84631 ],\n",
       "        [ 70.109375,  95.0625  ,  76.203125],\n",
       "        [ 67.29993 ,  92.25305 ,  73.39368 ],\n",
       "        [ 77.61261 , 103.61261 ,  75.17511 ],\n",
       "        [ 93.42297 , 122.1886  ,  78.153625],\n",
       "        [ 95.87268 , 128.21643 ,  84.28467 ],\n",
       "        [ 93.71069 , 126.71069 ,  82.812256],\n",
       "        [ 97.859375, 130.85938 ,  84.890625],\n",
       "        [ 99.70703 , 134.09766 ,  81.92578 ],\n",
       "        [109.75391 , 145.43805 ,  85.22211 ],\n",
       "        [117.64374 , 153.14624 ,  91.3064  ],\n",
       "        [108.81024 , 143.41016 ,  80.27118 ],\n",
       "        [136.97888 , 173.4898  ,  98.72186 ],\n",
       "        [142.72699 , 175.43402 ,  98.15277 ],\n",
       "        [133.91315 , 163.00781 ,  96.65051 ],\n",
       "        [120.53906 , 147.35547 ,  95.27344 ],\n",
       "        [ 82.06891 , 110.35016 ,  78.235535],\n",
       "        [ 89.58856 , 117.884155,  79.65454 ],\n",
       "        [ 83.686646, 111.8902  ,  61.6745  ],\n",
       "        [126.041565, 155.10663 ,  93.38135 ],\n",
       "        [130.79224 , 157.79224 ,  90.26099 ],\n",
       "        [123.45911 , 155.0694  ,  75.982544],\n",
       "        [164.76544 , 197.53107 , 108.40607 ],\n",
       "        [156.06488 , 182.64691 ,  90.38208 ],\n",
       "        [168.60754 , 196.5473  ,  90.14044 ],\n",
       "        [148.03186 , 182.98358 ,  81.673584],\n",
       "        [122.54474 , 161.30981 ,  86.82208 ],\n",
       "        [124.41644 , 160.68329 ,  81.299255],\n",
       "        [105.12341 , 137.67145 ,  76.83435 ],\n",
       "        [ 88.36505 , 120.13458 ,  63.503906],\n",
       "        [123.32916 , 159.00494 ,  79.33411 ],\n",
       "        [140.08203 , 178.08575 ,  84.7699  ],\n",
       "        [128.12634 , 164.8451  ,  72.11206 ],\n",
       "        [137.87823 , 171.77667 ,  81.22589 ]],\n",
       "\n",
       "       [[190.06396 , 213.41162 , 135.35046 ],\n",
       "        [196.83972 , 219.98035 , 149.41785 ],\n",
       "        [143.11212 , 167.3465  , 104.64337 ],\n",
       "        [168.6969  , 193.6969  , 136.36877 ],\n",
       "        [164.38953 , 190.83911 , 136.53442 ],\n",
       "        [116.12329 , 144.77563 ,  96.388916],\n",
       "        [ 99.19464 , 125.065735,  85.6781  ],\n",
       "        [120.15625 , 139.26562 , 103.05139 ],\n",
       "        [148.39575 , 163.5592  , 126.063416],\n",
       "        [128.01746 , 147.0888  , 100.874756],\n",
       "        [155.43292 , 178.10156 , 125.786865],\n",
       "        [170.42395 , 193.0683  , 130.12708 ],\n",
       "        [170.99738 , 195.57318 , 135.06104 ],\n",
       "        [153.58344 , 179.09406 , 123.562805],\n",
       "        [147.35571 , 173.71509 , 124.63696 ],\n",
       "        [121.69531 , 148.69531 , 103.69531 ],\n",
       "        [119.052124, 149.9076  , 110.05737 ],\n",
       "        [113.109985, 135.53955 ,  98.49658 ],\n",
       "        [161.54016 , 169.14313 , 126.55859 ],\n",
       "        [173.41998 , 187.93561 , 134.59186 ],\n",
       "        [186.742   , 205.65607 , 147.05804 ],\n",
       "        [177.20465 , 183.61328 , 129.55145 ],\n",
       "        [191.45703 , 205.1289  , 143.73334 ],\n",
       "        [180.48376 , 197.07751 , 129.68689 ],\n",
       "        [185.5586  , 202.5586  , 134.35217 ],\n",
       "        [158.93085 , 178.54022 , 115.673035],\n",
       "        [176.64929 , 195.13367 , 141.51215 ],\n",
       "        [167.13922 , 185.71735 , 142.54193 ],\n",
       "        [137.63513 , 155.28748 , 117.98279 ],\n",
       "        [128.31085 , 146.31085 , 107.006165],\n",
       "        [114.54498 , 132.63672 ,  91.65436 ],\n",
       "        [122.51697 , 141.16931 ,  97.21228 ],\n",
       "        [139.13605 , 157.78839 , 113.83136 ],\n",
       "        [151.88696 , 169.44757 , 111.7912  ],\n",
       "        [181.0368  , 200.38336 , 142.57922 ],\n",
       "        [162.14374 , 182.71564 , 124.35779 ],\n",
       "        [148.63348 , 172.80786 , 108.03052 ],\n",
       "        [154.94794 , 181.30688 , 110.104614],\n",
       "        [122.207275, 151.24335 ,  79.93176 ],\n",
       "        [139.86224 , 171.20209 ,  95.090454],\n",
       "        [174.83356 , 208.59076 , 116.97809 ],\n",
       "        [168.09845 , 202.09845 , 105.1745  ],\n",
       "        [171.0686  , 203.3147  , 112.88025 ],\n",
       "        [174.82666 , 204.76788 , 127.7608  ],\n",
       "        [168.40277 , 199.84027 , 147.46875 ],\n",
       "        [171.54156 , 196.89844 , 157.83173 ],\n",
       "        [171.76135 , 188.49182 , 163.36298 ],\n",
       "        [157.3894  , 166.74878 , 152.07562 ],\n",
       "        [144.7356  , 148.94391 , 136.36713 ],\n",
       "        [156.39441 , 156.1521  , 145.50763 ],\n",
       "        [167.8778  , 165.67468 , 157.10437 ],\n",
       "        [174.7121  , 176.59607 , 166.92303 ],\n",
       "        [178.82794 , 186.6637  , 176.8086  ],\n",
       "        [177.95703 , 189.63129 , 181.96332 ],\n",
       "        [180.5     , 194.19531 , 185.89062 ],\n",
       "        [185.63013 , 195.77136 , 196.2945  ],\n",
       "        [186.07935 , 196.07935 , 197.07935 ],\n",
       "        [177.96002 , 187.96002 , 188.96002 ],\n",
       "        [188.15625 , 198.15625 , 199.15625 ],\n",
       "        [191.45135 , 201.45135 , 202.45135 ],\n",
       "        [193.80157 , 203.80157 , 205.1297  ],\n",
       "        [190.8471  , 200.8471  , 201.8471  ],\n",
       "        [190.6289  , 198.34766 , 200.0664  ],\n",
       "        [193.67902 , 199.67902 , 197.67902 ],\n",
       "        [193.72589 , 197.72589 , 196.72589 ],\n",
       "        [194.69531 , 196.69531 , 193.69531 ],\n",
       "        [191.97156 , 191.89117 , 187.13562 ],\n",
       "        [192.68597 , 190.80939 , 185.80939 ],\n",
       "        [193.62286 , 189.97052 , 180.50958 ],\n",
       "        [192.49567 , 187.86371 , 175.23175 ],\n",
       "        [191.39752 , 184.74518 , 168.65924 ],\n",
       "        [186.35876 , 180.04132 , 160.46033 ],\n",
       "        [185.60907 , 178.91376 , 155.81549 ],\n",
       "        [181.94739 , 175.25208 , 150.29504 ],\n",
       "        [196.23438 , 188.1914  , 162.53906 ],\n",
       "        [202.2381  , 194.19513 , 168.54279 ],\n",
       "        [220.51288 , 210.27344 , 184.7539  ],\n",
       "        [232.5     , 220.80469 , 202.6211  ],\n",
       "        [242.82812 , 233.75    , 213.82812 ],\n",
       "        [245.13678 , 239.85028 , 215.49353 ],\n",
       "        [253.54419 , 251.79681 , 225.89056 ],\n",
       "        [250.40234 , 252.2616  , 221.48431 ],\n",
       "        [245.76825 , 247.36841 , 216.98059 ],\n",
       "        [247.24323 , 249.1366  , 219.67682 ],\n",
       "        [207.16241 , 212.979   , 180.59619 ],\n",
       "        [159.82928 , 172.40198 , 136.75507 ],\n",
       "        [120.48596 , 139.80524 ,  98.785706],\n",
       "        [115.76807 , 138.33447 ,  96.33447 ],\n",
       "        [114.35382 , 137.9632  ,  97.61554 ],\n",
       "        [125.31848 , 151.92786 , 102.311584],\n",
       "        [136.46094 , 165.79688 , 108.32422 ],\n",
       "        [118.07245 , 149.6076  ,  98.18182 ],\n",
       "        [ 87.232056, 119.07892 ,  84.32031 ],\n",
       "        [ 80.25897 , 108.94202 ,  81.20038 ],\n",
       "        [ 74.94922 ,  99.80859 ,  71.51172 ],\n",
       "        [ 67.73181 ,  90.73181 ,  70.82556 ],\n",
       "        [ 68.49866 ,  91.49866 ,  73.559814],\n",
       "        [ 70.62109 ,  94.62109 ,  69.78113 ],\n",
       "        [ 98.079834, 123.579285,  89.244995],\n",
       "        [100.28363 , 132.62738 ,  86.611755],\n",
       "        [ 95.72974 , 129.72974 ,  79.52875 ],\n",
       "        [108.895874, 142.89587 ,  92.54822 ],\n",
       "        [104.20886 , 138.20886 ,  88.20886 ],\n",
       "        [102.1579  , 135.1579  ,  88.85321 ],\n",
       "        [ 90.96576 , 123.69202 ,  77.74701 ],\n",
       "        [ 87.723694, 120.37604 ,  68.58594 ],\n",
       "        [ 94.67511 , 127.63843 ,  72.0141  ],\n",
       "        [106.739746, 135.54834 ,  81.10657 ],\n",
       "        [ 93.94647 , 119.65857 ,  74.681274],\n",
       "        [ 79.50391 , 103.677185,  69.32141 ],\n",
       "        [ 85.54712 , 111.73059 ,  76.988464],\n",
       "        [ 84.7735  , 112.42584 ,  66.39722 ],\n",
       "        [ 87.36322 , 115.52075 ,  54.803345],\n",
       "        [130.28192 , 157.9928  ,  90.465515],\n",
       "        [130.58734 , 155.935   ,  86.89203 ],\n",
       "        [100.58234 , 128.72571 ,  59.1651  ],\n",
       "        [105.33649 , 137.9107  ,  71.207214],\n",
       "        [114.76715 , 145.75696 ,  82.2641  ],\n",
       "        [123.22424 , 156.11487 ,  81.02893 ],\n",
       "        [101.857544, 140.93146 ,  63.34613 ],\n",
       "        [ 84.92456 , 124.02777 ,  65.940186],\n",
       "        [128.78766 , 170.04938 ,  91.83362 ],\n",
       "        [101.7973  , 140.28168 ,  77.76605 ],\n",
       "        [ 99.24432 , 137.6662  ,  76.07599 ],\n",
       "        [114.15631 , 155.92273 ,  74.000854],\n",
       "        [105.1936  , 147.84595 ,  58.23767 ],\n",
       "        [118.131165, 157.55115 ,  71.88092 ],\n",
       "        [142.5268  , 179.2221  ,  92.22211 ]]], dtype=float32)"
      ]
     },
     "execution_count": 72,
     "metadata": {},
     "output_type": "execute_result"
    }
   ],
   "source": [
    "img,label = process_image(\"image\\\\dogs\\\\dog.75.jpg\")\n",
    "img.numpy()[:2]"
   ]
  },
  {
   "cell_type": "code",
   "execution_count": 73,
   "id": "55e9cf70",
   "metadata": {},
   "outputs": [],
   "source": [
    "train_ds = train_ds.map(process_image)\n",
    "test_ds = test_ds.map(process_image)"
   ]
  },
  {
   "cell_type": "code",
   "execution_count": 74,
   "id": "8b138148",
   "metadata": {},
   "outputs": [
    {
     "name": "stdout",
     "output_type": "stream",
     "text": [
      "**** tf.Tensor(\n",
      "[[[185.21484  204.21484  237.21484 ]\n",
      "  [185.21484  204.21484  237.21484 ]\n",
      "  [185.21484  204.21484  237.21484 ]\n",
      "  ...\n",
      "  [188.78516  207.78516  237.78516 ]\n",
      "  [188.29005  207.29005  237.29005 ]\n",
      "  [187.       206.       236.      ]]\n",
      "\n",
      " [[186.       205.       238.      ]\n",
      "  [186.       205.       238.      ]\n",
      "  [186.       205.       238.      ]\n",
      "  ...\n",
      "  [188.64453  207.64453  237.64453 ]\n",
      "  [188.36719  207.36719  237.36719 ]\n",
      "  [187.64453  206.64453  236.64453 ]]\n",
      "\n",
      " [[187.       206.       238.92578 ]\n",
      "  [187.       206.       238.92578 ]\n",
      "  [187.       206.       238.92578 ]\n",
      "  ...\n",
      "  [189.07422  208.07422  238.07422 ]\n",
      "  [188.79688  207.79688  237.79688 ]\n",
      "  [188.07422  207.07422  237.07422 ]]\n",
      "\n",
      " ...\n",
      "\n",
      " [[176.29112  125.29112   79.142685]\n",
      "  [189.69756  138.42021   86.80693 ]\n",
      "  [157.54965  105.420746  47.93637 ]\n",
      "  ...\n",
      "  [205.33322  148.9465    90.07541 ]\n",
      "  [218.0407   157.76335   96.93132 ]\n",
      "  [220.12996  156.12996   92.12996 ]]\n",
      "\n",
      " [[207.36998  155.36998  108.16586 ]\n",
      "  [205.24313  153.96579  102.155334]\n",
      "  [177.5143   125.38539   67.90102 ]\n",
      "  ...\n",
      "  [214.77225  155.77225   95.77225 ]\n",
      "  [222.21577  161.93843   99.66109 ]\n",
      "  [228.47563  164.47563  100.47563 ]]\n",
      "\n",
      " [[208.77962  156.77962  108.87109 ]\n",
      "  [190.25682  137.62692   86.02635 ]\n",
      "  [182.91156  128.5284    71.72797 ]\n",
      "  ...\n",
      "  [224.41371  164.62856  104.628555]\n",
      "  [227.03323  166.75589  104.478546]\n",
      "  [227.62827  163.62827   99.628265]]], shape=(128, 128, 3), dtype=float32)\n",
      "**** tf.Tensor(b'horses', shape=(), dtype=string)\n",
      "**** tf.Tensor(\n",
      "[[[124.86719   59.867188  21.867188]\n",
      "  [130.60156   62.601562  23.601562]\n",
      "  [132.        63.        22.      ]\n",
      "  ...\n",
      "  [187.07938  126.07938   63.079376]\n",
      "  [173.59375  112.59375   49.59375 ]\n",
      "  [183.53775  122.53775   59.53775 ]]\n",
      "\n",
      " [[125.86719   60.867188  20.867188]\n",
      "  [131.60156   64.203125  23.398438]\n",
      "  [133.        64.        23.      ]\n",
      "  ...\n",
      "  [189.29297  128.29297   63.29297 ]\n",
      "  [174.53134  113.53134   48.53134 ]\n",
      "  [184.67575  123.67575   58.67575 ]]\n",
      "\n",
      " [[126.86719   61.867188  21.867188]\n",
      "  [132.19922   65.19922   23.199219]\n",
      "  [133.86484   64.86484   22.864838]\n",
      "  ...\n",
      "  [192.19687  131.19687   66.19687 ]\n",
      "  [175.35953  114.35953   49.359528]\n",
      "  [186.54422  125.54422   60.54422 ]]\n",
      "\n",
      " ...\n",
      "\n",
      " [[108.49078   42.697815  16.162659]\n",
      "  [112.19531   43.035004  23.76892 ]\n",
      "  [120.48825   50.945282  15.734314]\n",
      "  ...\n",
      "  [126.75      56.873444  20.272644]\n",
      "  [125.894226  57.675476  20.882507]\n",
      "  [124.96735   57.067657  20.680939]]\n",
      "\n",
      " [[104.29297   43.29297   15.160156]\n",
      "  [109.38272   40.578033  28.187408]\n",
      "  [120.125     46.796875  16.757812]\n",
      "  ...\n",
      "  [131.04282   57.042816  20.042816]\n",
      "  [130.60156   56.203125  22.398438]\n",
      "  [127.86719   52.867188  20.867188]]\n",
      "\n",
      " [[102.86719   41.867188  13.734375]\n",
      "  [107.31253   38.507843  26.117218]\n",
      "  [116.52734   43.19922   13.160156]\n",
      "  ...\n",
      "  [130.01688   56.016876  19.016876]\n",
      "  [130.60156   56.203125  22.398438]\n",
      "  [127.86719   52.867188  20.867188]]], shape=(128, 128, 3), dtype=float32)\n",
      "**** tf.Tensor(b'cats', shape=(), dtype=string)\n"
     ]
    }
   ],
   "source": [
    "for image, label in train_ds.take(2):\n",
    "    print(\"****\",image)\n",
    "    print(\"****\",label)"
   ]
  },
  {
   "cell_type": "code",
   "execution_count": 75,
   "id": "98c1e769",
   "metadata": {},
   "outputs": [],
   "source": [
    "def scale(image, label):\n",
    "    return image/255, label"
   ]
  },
  {
   "cell_type": "code",
   "execution_count": 76,
   "id": "354e8b03",
   "metadata": {},
   "outputs": [],
   "source": [
    "train_ds = train_ds.map(scale)"
   ]
  },
  {
   "cell_type": "code",
   "execution_count": 77,
   "id": "668da0cb",
   "metadata": {},
   "outputs": [
    {
     "name": "stdout",
     "output_type": "stream",
     "text": [
      "**Image :  [0.23529412 0.23921569 0.21568628]\n",
      "**Label :  b'cats'\n",
      "**Image :  [0.10278799 0.20747548 0.15376838]\n",
      "**Label :  b'dogs'\n",
      "**Image :  [0.8234069  0.7680112  0.25527307]\n",
      "**Label :  b'horses'\n",
      "**Image :  [0.8387359  0.8314798  0.87432355]\n",
      "**Label :  b'cats'\n",
      "**Image :  [0.46491078 0.33157745 0.18497817]\n",
      "**Label :  b'cats'\n"
     ]
    }
   ],
   "source": [
    "for image, label in train_ds.take(5):\n",
    "    print(\"**Image : \", image.numpy()[0][0])\n",
    "    print(\"**Label : \", label.numpy())"
   ]
  },
  {
   "cell_type": "markdown",
   "id": "058c1f06",
   "metadata": {},
   "source": [
    "## Prefetching"
   ]
  },
  {
   "cell_type": "code",
   "execution_count": 83,
   "id": "06cc0dab",
   "metadata": {},
   "outputs": [],
   "source": [
    "class FileDataset(tf.data.Dataset):\n",
    "    def read_file_in_batches(num_samples):\n",
    "        # OPening the file \n",
    "        time.sleep(0.03)\n",
    "        \n",
    "        for sample_idx in range(num_samples) :\n",
    "            # Reading data (line,record) from the file \n",
    "            time.sleep(0.015)\n",
    "            \n",
    "            yield (sample_idx,)\n",
    "            \n",
    "    def __new__(cls, num_samples=3):\n",
    "        return tf.data.Dataset.from_generator(\n",
    "            cls.read_file_in_batches,\n",
    "            output_signature = tf.TensorSpec(shape = (1,),dtype=tf.int64),\n",
    "            args=(num_samples,)\n",
    "        )"
   ]
  },
  {
   "cell_type": "code",
   "execution_count": 84,
   "id": "e1853a8d",
   "metadata": {},
   "outputs": [],
   "source": [
    "def benchmark(dataset , num_epochs=2):\n",
    "    for epoch_num in range(num_epochs):\n",
    "        for sample in dataset:\n",
    "            # performing a training step\n",
    "            time.sleep(0.01)"
   ]
  },
  {
   "cell_type": "code",
   "execution_count": 85,
   "id": "daee706f",
   "metadata": {},
   "outputs": [
    {
     "name": "stdout",
     "output_type": "stream",
     "text": [
      "338 ms ± 6.47 ms per loop (mean ± std. dev. of 7 runs, 1 loop each)\n"
     ]
    }
   ],
   "source": [
    "%%timeit\n",
    "benchmark(FileDataset())"
   ]
  },
  {
   "cell_type": "code",
   "execution_count": 87,
   "id": "adc3dc62",
   "metadata": {},
   "outputs": [
    {
     "name": "stdout",
     "output_type": "stream",
     "text": [
      "317 ms ± 9.6 ms per loop (mean ± std. dev. of 7 runs, 1 loop each)\n"
     ]
    }
   ],
   "source": [
    "%%timeit\n",
    "benchmark(FileDataset().prefetch(1))"
   ]
  },
  {
   "cell_type": "code",
   "execution_count": 92,
   "id": "624ddfe5",
   "metadata": {},
   "outputs": [
    {
     "name": "stdout",
     "output_type": "stream",
     "text": [
      "333 ms ± 20 ms per loop (mean ± std. dev. of 7 runs, 1 loop each)\n"
     ]
    }
   ],
   "source": [
    "%%timeit\n",
    "benchmark(FileDataset().prefetch(tf.data.AUTOTUNE))"
   ]
  },
  {
   "cell_type": "markdown",
   "id": "829b8132",
   "metadata": {},
   "source": [
    "## Caching"
   ]
  },
  {
   "cell_type": "code",
   "execution_count": 93,
   "id": "fa72c7f4",
   "metadata": {},
   "outputs": [
    {
     "data": {
      "text/plain": [
       "[0, 1, 4, 9, 16]"
      ]
     },
     "execution_count": 93,
     "metadata": {},
     "output_type": "execute_result"
    }
   ],
   "source": [
    "dataset = tf.data.Dataset.range(5)\n",
    "dataset = dataset.map(lambda x: x**2)\n",
    "dataset = dataset.cache(\"mycache.txt\")\n",
    "list(dataset.as_numpy_iterator())"
   ]
  },
  {
   "cell_type": "code",
   "execution_count": 94,
   "id": "0d4c6bbd",
   "metadata": {},
   "outputs": [
    {
     "data": {
      "text/plain": [
       "[0, 1, 4, 9, 16]"
      ]
     },
     "execution_count": 94,
     "metadata": {},
     "output_type": "execute_result"
    }
   ],
   "source": [
    "list(dataset.as_numpy_iterator())"
   ]
  },
  {
   "cell_type": "code",
   "execution_count": 95,
   "id": "f7479616",
   "metadata": {},
   "outputs": [],
   "source": [
    "def mapped_function(s):\n",
    "    tf.py_function(lambda: time.sleep(0.03), [], ())\n",
    "    return s"
   ]
  },
  {
   "cell_type": "code",
   "execution_count": 96,
   "id": "30afb9c5",
   "metadata": {},
   "outputs": [
    {
     "name": "stdout",
     "output_type": "stream",
     "text": [
      "1.32 s ± 0 ns per loop (mean ± std. dev. of 1 run, 1 loop each)\n"
     ]
    }
   ],
   "source": [
    "%%timeit -r1 -n1\n",
    "benchmark(FileDataset().map(mapped_function),5)"
   ]
  },
  {
   "cell_type": "code",
   "execution_count": 98,
   "id": "9e703bf4",
   "metadata": {},
   "outputs": [
    {
     "name": "stdout",
     "output_type": "stream",
     "text": [
      "461 ms ± 0 ns per loop (mean ± std. dev. of 1 run, 1 loop each)\n"
     ]
    }
   ],
   "source": [
    "%%timeit -r1 -n1\n",
    "benchmark(FileDataset().map(mapped_function).cache(), 5)"
   ]
  }
 ],
 "metadata": {
  "kernelspec": {
   "display_name": "Python 3 (ipykernel)",
   "language": "python",
   "name": "python3"
  },
  "language_info": {
   "codemirror_mode": {
    "name": "ipython",
    "version": 3
   },
   "file_extension": ".py",
   "mimetype": "text/x-python",
   "name": "python",
   "nbconvert_exporter": "python",
   "pygments_lexer": "ipython3",
   "version": "3.11.4"
  }
 },
 "nbformat": 4,
 "nbformat_minor": 5
}
